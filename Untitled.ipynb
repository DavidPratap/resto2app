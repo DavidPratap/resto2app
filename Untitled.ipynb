{
 "cells": [
  {
   "cell_type": "code",
   "execution_count": 1,
   "id": "8e1ba7fc",
   "metadata": {},
   "outputs": [],
   "source": [
    "import shutil, os"
   ]
  },
  {
   "cell_type": "code",
   "execution_count": 2,
   "id": "cd5f9382",
   "metadata": {},
   "outputs": [],
   "source": [
    "original_dataset_dir=\"C:/Users/davidpratap/Desktop/resto2/kaggle_original_data/train\""
   ]
  },
  {
   "cell_type": "code",
   "execution_count": 4,
   "id": "ff24b854",
   "metadata": {},
   "outputs": [],
   "source": [
    "base_dir=\"C:/Users/davidpratap/Desktop/resto2/cats_dogs_small\"\n",
    "os.mkdir(base_dir)"
   ]
  },
  {
   "cell_type": "code",
   "execution_count": 5,
   "id": "a0a145f7",
   "metadata": {},
   "outputs": [],
   "source": [
    "train_dir=\"C:/Users/davidpratap/Desktop/resto2/cats_dogs_small/train\"\n",
    "os.mkdir(train_dir)\n",
    "validation_dir=\"C:/Users/davidpratap/Desktop/resto2/cats_dogs_small/validation\"\n",
    "os.mkdir(validation_dir)\n",
    "test_dir=\"C:/Users/davidpratap/Desktop/resto2/cats_dogs_small/test\"\n",
    "os.mkdir(test_dir)"
   ]
  },
  {
   "cell_type": "code",
   "execution_count": 6,
   "id": "4a3961b2",
   "metadata": {},
   "outputs": [],
   "source": [
    "train_cats_dir=\"C:/Users/davidpratap/Desktop/resto2/cats_dogs_small/train/cats\"\n",
    "os.mkdir(train_cats_dir)\n",
    "validation_cats_dir=\"C:/Users/davidpratap/Desktop/resto2/cats_dogs_small/validation/cats\"\n",
    "os.mkdir(validation_cats_dir)\n",
    "test_cats_dir=\"C:/Users/davidpratap/Desktop/resto2/cats_dogs_small/test/cats\"\n",
    "os.mkdir(test_cats_dir)\n"
   ]
  },
  {
   "cell_type": "code",
   "execution_count": 7,
   "id": "51f104df",
   "metadata": {},
   "outputs": [],
   "source": [
    "train_dogs_dir=\"C:/Users/davidpratap/Desktop/resto2/cats_dogs_small/train/dogs\"\n",
    "os.mkdir(train_dogs_dir)\n",
    "validation_dogs_dir=\"C:/Users/davidpratap/Desktop/resto2/cats_dogs_small/validation/dogs\"\n",
    "os.mkdir(validation_dogs_dir)\n",
    "test_dogs_dir=\"C:/Users/davidpratap/Desktop/resto2/cats_dogs_small/test/dogs\"\n",
    "os.mkdir(test_dogs_dir)"
   ]
  },
  {
   "cell_type": "code",
   "execution_count": 8,
   "id": "793b97ea",
   "metadata": {},
   "outputs": [],
   "source": [
    "fnames=[\"cat.{}.jpg\".format(i) for i in range(1000)]\n",
    "for fname in fnames:\n",
    "    src=os.path.join(original_dataset_dir, fname)\n",
    "    dst=os.path.join(train_cats_dir, fname)\n",
    "    shutil.copyfile(src, dst)\n",
    "fnames=[\"cat.{}.jpg\".format(i) for i in range(1000, 1500)]\n",
    "for fname in fnames:\n",
    "    src=os.path.join(original_dataset_dir, fname)\n",
    "    dst=os.path.join(validation_cats_dir, fname)\n",
    "    shutil.copyfile(src, dst)\n",
    "fnames=[\"cat.{}.jpg\".format(i) for i in range(1500, 2000)]\n",
    "for fname in fnames:\n",
    "    src=os.path.join(original_dataset_dir, fname)\n",
    "    dst=os.path.join(test_cats_dir, fname)\n",
    "    shutil.copyfile(src, dst)"
   ]
  },
  {
   "cell_type": "code",
   "execution_count": 9,
   "id": "3c2cf041",
   "metadata": {},
   "outputs": [],
   "source": [
    "fnames=[\"dog.{}.jpg\".format(i) for i in range(1000)]\n",
    "for fname in fnames:\n",
    "    src=os.path.join(original_dataset_dir, fname)\n",
    "    dst=os.path.join(train_dogs_dir, fname)\n",
    "    shutil.copyfile(src, dst)\n",
    "fnames=[\"dog.{}.jpg\".format(i) for i in range(1000, 1500)]\n",
    "for fname in fnames:\n",
    "    src=os.path.join(original_dataset_dir, fname)\n",
    "    dst=os.path.join(validation_dogs_dir, fname)\n",
    "    shutil.copyfile(src, dst)\n",
    "fnames=[\"dog.{}.jpg\".format(i) for i in range(1500, 2000)]\n",
    "for fname in fnames:\n",
    "    src=os.path.join(original_dataset_dir, fname)\n",
    "    dst=os.path.join(test_dogs_dir, fname)\n",
    "    shutil.copyfile(src, dst)"
   ]
  },
  {
   "cell_type": "code",
   "execution_count": 10,
   "id": "c12a5a57",
   "metadata": {},
   "outputs": [
    {
     "name": "stdout",
     "output_type": "stream",
     "text": [
      "No. of cat training images =  1000\n",
      "No. of cat validation images =  500\n",
      "No. of cat testing images =  500\n"
     ]
    }
   ],
   "source": [
    "# validate the cat directories\n",
    "print('No. of cat training images = ', len(os.listdir(train_cats_dir)))\n",
    "print('No. of cat validation images = ', len(os.listdir(validation_cats_dir)))\n",
    "print('No. of cat testing images = ', len(os.listdir(test_cats_dir)))"
   ]
  },
  {
   "cell_type": "code",
   "execution_count": 11,
   "id": "962c9b08",
   "metadata": {},
   "outputs": [
    {
     "name": "stdout",
     "output_type": "stream",
     "text": [
      "No. of dog training images =  1000\n",
      "No. of dog validation images =  500\n",
      "No. of dog testing images =  500\n"
     ]
    }
   ],
   "source": [
    "# validate the dog directories\n",
    "print('No. of dog training images = ', len(os.listdir(train_dogs_dir)))\n",
    "print('No. of dog validation images = ', len(os.listdir(validation_dogs_dir)))\n",
    "print('No. of dog testing images = ', len(os.listdir(test_dogs_dir)))"
   ]
  },
  {
   "cell_type": "markdown",
   "id": "155713c9",
   "metadata": {},
   "source": [
    "# Transfer Learning"
   ]
  },
  {
   "cell_type": "code",
   "execution_count": 12,
   "id": "91988736",
   "metadata": {},
   "outputs": [],
   "source": [
    "import tensorflow\n",
    "from tensorflow.keras.applications import VGG16"
   ]
  },
  {
   "cell_type": "code",
   "execution_count": 13,
   "id": "473822e1",
   "metadata": {},
   "outputs": [],
   "source": [
    "conv_base=VGG16(weights='imagenet', include_top=False, input_shape=(150, 150, 3))\n"
   ]
  },
  {
   "cell_type": "code",
   "execution_count": 16,
   "id": "2dba7b23",
   "metadata": {},
   "outputs": [],
   "source": [
    "from tensorflow.keras.models import Sequential, load_model\n",
    "from tensorflow.keras.layers import Dense, Dropout, Flatten"
   ]
  },
  {
   "cell_type": "code",
   "execution_count": 17,
   "id": "49a49c19",
   "metadata": {},
   "outputs": [],
   "source": [
    "model=Sequential()\n",
    "model.add(conv_base)\n",
    "model.add(Flatten())\n",
    "model.add(Dense(258, activation='relu'))\n",
    "model.add(Dense(1, activation='sigmoid'))"
   ]
  },
  {
   "cell_type": "code",
   "execution_count": 18,
   "id": "84ea9615",
   "metadata": {},
   "outputs": [
    {
     "name": "stdout",
     "output_type": "stream",
     "text": [
      "Model: \"sequential_1\"\n",
      "_________________________________________________________________\n",
      " Layer (type)                Output Shape              Param #   \n",
      "=================================================================\n",
      " vgg16 (Functional)          (None, 4, 4, 512)         14714688  \n",
      "                                                                 \n",
      " flatten (Flatten)           (None, 8192)              0         \n",
      "                                                                 \n",
      " dense (Dense)               (None, 258)               2113794   \n",
      "                                                                 \n",
      " dense_1 (Dense)             (None, 1)                 259       \n",
      "                                                                 \n",
      "=================================================================\n",
      "Total params: 16,828,741\n",
      "Trainable params: 16,828,741\n",
      "Non-trainable params: 0\n",
      "_________________________________________________________________\n"
     ]
    }
   ],
   "source": [
    "model.summary()"
   ]
  },
  {
   "cell_type": "code",
   "execution_count": 19,
   "id": "e0bf9e79",
   "metadata": {},
   "outputs": [],
   "source": [
    "conv_base.trainable=False"
   ]
  },
  {
   "cell_type": "code",
   "execution_count": 21,
   "id": "10e05351",
   "metadata": {},
   "outputs": [],
   "source": [
    "from tensorflow.keras.preprocessing.image import ImageDataGenerator\n",
    "from tensorflow.keras import optimizers"
   ]
  },
  {
   "cell_type": "code",
   "execution_count": 24,
   "id": "bd77d72b",
   "metadata": {},
   "outputs": [
    {
     "name": "stdout",
     "output_type": "stream",
     "text": [
      "Found 2000 images belonging to 2 classes.\n",
      "Found 1000 images belonging to 2 classes.\n",
      "Epoch 1/5\n",
      "100/100 [==============================] - 195s 2s/step - loss: 0.6506 - acc: 0.6340 - val_loss: 0.4990 - val_acc: 0.7860\n",
      "Epoch 2/5\n",
      "100/100 [==============================] - 204s 2s/step - loss: 0.5037 - acc: 0.7785 - val_loss: 0.3944 - val_acc: 0.8390\n",
      "Epoch 3/5\n",
      "100/100 [==============================] - 197s 2s/step - loss: 0.4419 - acc: 0.8025 - val_loss: 0.3455 - val_acc: 0.8540\n",
      "Epoch 4/5\n",
      "100/100 [==============================] - 197s 2s/step - loss: 0.4090 - acc: 0.8265 - val_loss: 0.3200 - val_acc: 0.8680\n",
      "Epoch 5/5\n",
      "100/100 [==============================] - 197s 2s/step - loss: 0.3863 - acc: 0.8345 - val_loss: 0.3038 - val_acc: 0.8740\n"
     ]
    }
   ],
   "source": [
    "train_datagen = ImageDataGenerator(\n",
    "        rotation_range=40,\n",
    "        width_shift_range=0.2,\n",
    "        height_shift_range=0.2,\n",
    "        rescale=1./255,\n",
    "        shear_range=0.2,\n",
    "        zoom_range=0.2,\n",
    "        horizontal_flip=True,\n",
    "        fill_mode='nearest')\n",
    "\n",
    "test_datagen=ImageDataGenerator(rescale=1./255)\n",
    "train_generator= train_datagen.flow_from_directory(\n",
    "train_dir,\n",
    "batch_size=20,\n",
    "target_size=(150, 150),\n",
    "class_mode='binary')\n",
    "\n",
    "validation_generator= test_datagen.flow_from_directory(\n",
    "validation_dir,\n",
    "batch_size=20,\n",
    "target_size=(150, 150),\n",
    "class_mode='binary')\n",
    "\n",
    "model.compile(loss='binary_crossentropy', optimizer=optimizers.Adam(learning_rate=0.00002),\n",
    "             metrics=['acc'])\n",
    "history=model.fit(\n",
    "train_generator, \n",
    "steps_per_epoch=100,\n",
    "epochs=5,\n",
    "validation_data=validation_generator,\n",
    "validation_steps=50)"
   ]
  },
  {
   "cell_type": "code",
   "execution_count": 25,
   "id": "0e50e9f3",
   "metadata": {},
   "outputs": [],
   "source": [
    "model.save('cats_dogs_small_3.h5')"
   ]
  },
  {
   "cell_type": "code",
   "execution_count": 34,
   "id": "af0b1716",
   "metadata": {},
   "outputs": [
    {
     "name": "stdout",
     "output_type": "stream",
     "text": [
      "Overwriting app.py\n"
     ]
    }
   ],
   "source": [
    "%%writefile app.py\n",
    "import numpy as np\n",
    "import matplotlib.pyplot as plt\n",
    "from tensorflow.keras.preprocessing.image import load_img, img_to_array\n",
    "from tensorflow.keras.models import load_model\n",
    "from PIL import Image\n",
    "import streamlit as st\n",
    "st.title(\"Dog Cat Classifier using Tensorflow and Keras\")\n",
    "\n",
    "#step 1 :Load the model\n",
    "model=load_model('cats_dogs_small_3.h5')\n",
    "\n",
    "# Step2 Load the image \n",
    "uploaded_file=st.file_uploader('Choose the database', accept_multiple_files=False)\n",
    "if uploaded_file is not None:\n",
    "    file=uploaded_file\n",
    "else:\n",
    "    file='image.jpg'\n",
    "\n",
    "if st.checkbox('View Image', False):\n",
    "    img=Image.open(file)\n",
    "    st.image(img)\n",
    "    \n",
    "# Step3: Preprocess the uploaded image\n",
    "img=load_img(file, target_size=(150, 150))\n",
    "img_array=img_to_array(img)\n",
    "img_array=np.expand_dims(img_array, axis=0)\n",
    "\n",
    "# Step4: Predict the image and print the result\n",
    "pred=int(model.predict(img_array)[0][0])\n",
    "\n",
    "if st.button('Prediction'):\n",
    "    if pred==1:\n",
    "        st.subheader(\"It is a Dog  \")\n",
    "    else:\n",
    "        st.subheader(\"It is a Cat \")"
   ]
  },
  {
   "cell_type": "code",
   "execution_count": null,
   "id": "54527762",
   "metadata": {},
   "outputs": [],
   "source": []
  }
 ],
 "metadata": {
  "kernelspec": {
   "display_name": "Python 3 (ipykernel)",
   "language": "python",
   "name": "python3"
  },
  "language_info": {
   "codemirror_mode": {
    "name": "ipython",
    "version": 3
   },
   "file_extension": ".py",
   "mimetype": "text/x-python",
   "name": "python",
   "nbconvert_exporter": "python",
   "pygments_lexer": "ipython3",
   "version": "3.10.8"
  }
 },
 "nbformat": 4,
 "nbformat_minor": 5
}
